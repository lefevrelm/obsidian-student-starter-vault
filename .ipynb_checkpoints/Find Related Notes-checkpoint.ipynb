{
 "cells": [
  {
   "cell_type": "markdown",
   "metadata": {},
   "source": [
    "at terminal, `conda activate notes-env` then `jupyter notebook`\n",
    "\n",
    "Change up the target below to get what you're after."
   ]
  },
  {
   "cell_type": "markdown",
   "metadata": {},
   "source": [
    "also had to download the language model with python -m spacy download en_core_web_sm"
   ]
  },
  {
   "cell_type": "code",
   "execution_count": 1,
   "metadata": {},
   "outputs": [
    {
     "name": "stderr",
     "output_type": "stream",
     "text": [
      "[nltk_data] Downloading package stopwords to\n",
      "[nltk_data]     /Users/shawngraham/nltk_data...\n",
      "[nltk_data]   Package stopwords is already up-to-date!\n"
     ]
    },
    {
     "data": {
      "text/plain": [
       "True"
      ]
     },
     "execution_count": 1,
     "metadata": {},
     "output_type": "execute_result"
    }
   ],
   "source": [
    "import nltk\n",
    "nltk.download('stopwords')"
   ]
  },
  {
   "cell_type": "code",
   "execution_count": 2,
   "metadata": {},
   "outputs": [
    {
     "name": "stderr",
     "output_type": "stream",
     "text": [
      "[nltk_data] Downloading package punkt to\n",
      "[nltk_data]     /Users/shawngraham/nltk_data...\n",
      "[nltk_data]   Package punkt is already up-to-date!\n"
     ]
    },
    {
     "data": {
      "text/plain": [
       "True"
      ]
     },
     "execution_count": 2,
     "metadata": {},
     "output_type": "execute_result"
    }
   ],
   "source": [
    "import nltk\n",
    "nltk.download('punkt')"
   ]
  },
  {
   "cell_type": "code",
   "execution_count": 6,
   "metadata": {},
   "outputs": [
    {
     "name": "stdout",
     "output_type": "stream",
     "text": [
      "Collecting spacy\n",
      "  Using cached spacy-3.0.6-cp38-cp38-macosx_10_9_x86_64.whl (12.5 MB)\n",
      "Collecting murmurhash<1.1.0,>=0.28.0\n",
      "  Using cached murmurhash-1.0.5-cp38-cp38-macosx_10_9_x86_64.whl (18 kB)\n",
      "Collecting catalogue<2.1.0,>=2.0.3\n",
      "  Using cached catalogue-2.0.4-py3-none-any.whl (16 kB)\n",
      "Collecting preshed<3.1.0,>=3.0.2\n",
      "  Using cached preshed-3.0.5-cp38-cp38-macosx_10_9_x86_64.whl (105 kB)\n",
      "Requirement already satisfied: packaging>=20.0 in /Users/shawngraham/opt/anaconda3/lib/python3.8/site-packages (from spacy) (20.9)\n",
      "Collecting typer<0.4.0,>=0.3.0\n",
      "  Using cached typer-0.3.2-py3-none-any.whl (21 kB)\n",
      "Collecting blis<0.8.0,>=0.4.0\n",
      "  Using cached blis-0.7.4-cp38-cp38-macosx_10_9_x86_64.whl (5.8 MB)\n",
      "Requirement already satisfied: setuptools in /Users/shawngraham/opt/anaconda3/lib/python3.8/site-packages (from spacy) (52.0.0.post20210125)\n",
      "Collecting thinc<8.1.0,>=8.0.3\n",
      "  Using cached thinc-8.0.5-cp38-cp38-macosx_10_9_x86_64.whl (597 kB)\n",
      "Collecting srsly<3.0.0,>=2.4.1\n",
      "  Using cached srsly-2.4.1-cp38-cp38-macosx_10_9_x86_64.whl (450 kB)\n",
      "Requirement already satisfied: jinja2 in /Users/shawngraham/opt/anaconda3/lib/python3.8/site-packages (from spacy) (2.11.3)\n",
      "Requirement already satisfied: tqdm<5.0.0,>=4.38.0 in /Users/shawngraham/opt/anaconda3/lib/python3.8/site-packages (from spacy) (4.59.0)\n",
      "Requirement already satisfied: numpy>=1.15.0 in /Users/shawngraham/opt/anaconda3/lib/python3.8/site-packages (from spacy) (1.20.1)\n",
      "Collecting pydantic<1.8.0,>=1.7.1\n",
      "  Using cached pydantic-1.7.4-cp38-cp38-macosx_10_9_x86_64.whl (2.4 MB)\n",
      "Collecting pathy>=0.3.5\n",
      "  Using cached pathy-0.5.2-py3-none-any.whl (42 kB)\n",
      "Collecting spacy-legacy<3.1.0,>=3.0.4\n",
      "  Using cached spacy_legacy-3.0.6-py2.py3-none-any.whl (12 kB)\n",
      "Collecting cymem<2.1.0,>=2.0.2\n",
      "  Using cached cymem-2.0.5-cp38-cp38-macosx_10_9_x86_64.whl (31 kB)\n",
      "Requirement already satisfied: requests<3.0.0,>=2.13.0 in /Users/shawngraham/opt/anaconda3/lib/python3.8/site-packages (from spacy) (2.25.1)\n",
      "Collecting wasabi<1.1.0,>=0.8.1\n",
      "  Using cached wasabi-0.8.2-py3-none-any.whl (23 kB)\n",
      "Requirement already satisfied: pyparsing>=2.0.2 in /Users/shawngraham/opt/anaconda3/lib/python3.8/site-packages (from packaging>=20.0->spacy) (2.4.7)\n",
      "Collecting smart-open<4.0.0,>=2.2.0\n",
      "  Using cached smart_open-3.0.0-py3-none-any.whl\n",
      "Requirement already satisfied: idna<3,>=2.5 in /Users/shawngraham/opt/anaconda3/lib/python3.8/site-packages (from requests<3.0.0,>=2.13.0->spacy) (2.10)\n",
      "Requirement already satisfied: certifi>=2017.4.17 in /Users/shawngraham/opt/anaconda3/lib/python3.8/site-packages (from requests<3.0.0,>=2.13.0->spacy) (2020.12.5)\n",
      "Requirement already satisfied: chardet<5,>=3.0.2 in /Users/shawngraham/opt/anaconda3/lib/python3.8/site-packages (from requests<3.0.0,>=2.13.0->spacy) (4.0.0)\n",
      "Requirement already satisfied: urllib3<1.27,>=1.21.1 in /Users/shawngraham/opt/anaconda3/lib/python3.8/site-packages (from requests<3.0.0,>=2.13.0->spacy) (1.26.4)\n",
      "Requirement already satisfied: click<7.2.0,>=7.1.1 in /Users/shawngraham/opt/anaconda3/lib/python3.8/site-packages (from typer<0.4.0,>=0.3.0->spacy) (7.1.2)\n",
      "Requirement already satisfied: MarkupSafe>=0.23 in /Users/shawngraham/opt/anaconda3/lib/python3.8/site-packages (from jinja2->spacy) (1.1.1)\n",
      "Installing collected packages: murmurhash, cymem, catalogue, wasabi, typer, srsly, smart-open, pydantic, preshed, blis, thinc, spacy-legacy, pathy, spacy\n",
      "Successfully installed blis-0.7.4 catalogue-2.0.4 cymem-2.0.5 murmurhash-1.0.5 pathy-0.5.2 preshed-3.0.5 pydantic-1.7.4 smart-open-3.0.0 spacy-3.0.6 spacy-legacy-3.0.6 srsly-2.4.1 thinc-8.0.5 typer-0.3.2 wasabi-0.8.2\n"
     ]
    }
   ],
   "source": [
    "!pip install spacy"
   ]
  },
  {
   "cell_type": "code",
   "execution_count": null,
   "metadata": {},
   "outputs": [],
   "source": [
    "!python similarity.py \"2 observations/importance of enchantment.md\""
   ]
  },
  {
   "cell_type": "code",
   "execution_count": 5,
   "metadata": {},
   "outputs": [
    {
     "name": "stdout",
     "output_type": "stream",
     "text": [
      "## Similar Notes \n",
      "|  filename                                      |   score |   text_similarity |      tfidf |   tfidf_similarity |\n",
      "| :----------------------------------------------|--------:|------------------:|-----------:|-------------------:|\n",
      "|  archaeology and photography shanks svabo      |   1     |         1         | 1          |           1        |\n",
      "|  evolution of archaeological photography       |   0.238 |         0.075     | 0.237169   |           0.318585 |\n",
      "|  results of morgan photograph study            |   0.201 |         0.0677419 | 0.191217   |           0.262275 |\n",
      "|  studium versus punctum                        |   0.148 |         0.0467626 | 0.125121   |           0.18756  |\n",
      "|  hicks and mcfayden trouble                    |   0.135 |         0.0199203 | 0.135211   |           0.192605 |\n",
      "|  on taking a photo                             |   0.115 |         0.0295203 | 0.0602839  |           0.130142 |\n",
      "|  think of it all as evocations                 |   0.115 |         0.0304183 | 0.0552554  |           0.127628 |\n",
      "|  sensory ethnography                           |   0.113 |         0.0258303 | 0.0270136  |           0.113507 |\n",
      "|  creative work is not radical                  |   0.113 |         0.0258303 | 0.0771662  |           0.138583 |\n",
      "|  personal and analysis go together             |   0.113 |         0.0264151 | 0.0389615  |           0.119481 |\n",
      "|  modes of thought                              |   0.113 |         0.0254545 | 0.0402951  |           0.120148 |\n",
      "|  photographs and frameworks                    |   0.113 |         0.058642  | 0.1612     |           0.163934 |\n",
      "|  the intention of sensory archaeology          |   0.111 |         0.0218182 | 0.0531015  |           0.126551 |\n",
      "|  potential endproducts of sensory arcahe       |   0.111 |         0.0229885 | 0.0620522  |           0.131026 |\n",
      "|  sensory archaeology traces routes             |   0.11  |         0.0190114 | 0.0910956  |           0.145548 |\n",
      "|  synaesthesia as scape                         |   0.109 |         0.0178571 | 0.0439927  |           0.121996 |\n",
      "|  senses are social                             |   0.109 |         0.0179211 | 0.0481804  |           0.12409  |\n",
      "|  sensory has parallels with feminist           |   0.108 |         0.0152672 | 0.0493519  |           0.124676 |\n",
      "|  synaesthesia                                  |   0.108 |         0.0165563 | 0.0157802  |           0.10789  |\n",
      "|  strong objectivity                            |   0.107 |         0.0139373 | 0.0300746  |           0.115037 |\n",
      "|  sensory depends on personal awareness         |   0.107 |         0.0145455 | 0.0536993  |           0.12685  |\n",
      "|  sensorial prosthese                           |   0.106 |         0.011236  | 0.0471199  |           0.12356  |\n",
      "|  sensory ethnography still rigorous            |   0.105 |         0.0109091 | 0.00768703 |           0.103844 |\n",
      "|  embrace challenge of being in present context |   0.102 |         0.0369004 | 0.0583249  |           0.112496 |\n",
      "|  study vision from ontology first              |   0.102 |         0.0367893 | 0.0704826  |           0.118575 |\n",
      "|  theory intersects with method sensorial       |   0.1   |         0.0342466 | 0.0569921  |           0.111829 |\n",
      "## Similar Notes TFIDF \n",
      "|  filename                                           |   score |   text_similarity |      tfidf |   tfidf_similarity |\n",
      "| :---------------------------------------------------|--------:|------------------:|-----------:|-------------------:|\n",
      "|  archaeology and photography shanks svabo           |   1     |        1          | 1          |           1        |\n",
      "|  evolution of archaeological photography            |   0.238 |        0.075      | 0.237169   |           0.318585 |\n",
      "|  results of morgan photograph study                 |   0.201 |        0.0677419  | 0.191217   |           0.262275 |\n",
      "|  hicks and mcfayden trouble                         |   0.135 |        0.0199203  | 0.135211   |           0.192605 |\n",
      "|  studium versus punctum                             |   0.148 |        0.0467626  | 0.125121   |           0.18756  |\n",
      "|  @bairdPhotographingDuraEuropos19282011             |   0.082 |        0.0721311  | 0.262427   |           0.176668 |\n",
      "|  photographs and frameworks                         |   0.113 |        0.058642   | 0.1612     |           0.163934 |\n",
      "|  sensory archaeology traces routes                  |   0.11  |        0.0190114  | 0.0910956  |           0.145548 |\n",
      "|  the networked image                                |   0.099 |        0.0549451  | 0.137176   |           0.140017 |\n",
      "|  creative work is not radical                       |   0.113 |        0.0258303  | 0.0771662  |           0.138583 |\n",
      "|  what do human remains do for those who own them    |   0.093 |        0.0437956  | 0.130222   |           0.13654  |\n",
      "|  2021-01-03-to-read                                 |   0.087 |        0.00790514 | 0.102874   |           0.134771 |\n",
      "|  potential endproducts of sensory arcahe            |   0.111 |        0.0229885  | 0.0620522  |           0.131026 |\n",
      "|  on taking a photo                                  |   0.115 |        0.0295203  | 0.0602839  |           0.130142 |\n",
      "|  first wave sensory archae                          |   0.095 |        0.0229008  | 0.0917929  |           0.12923  |\n",
      "|  conventional archae is sensory                     |   0.087 |        0.00757576 | 0.0913615  |           0.129014 |\n",
      "|  think of it all as evocations                      |   0.115 |        0.0304183  | 0.0552554  |           0.127628 |\n",
      "|  sensory depends on personal awareness              |   0.107 |        0.0145455  | 0.0536993  |           0.12685  |\n",
      "|  the intention of sensory archaeology               |   0.111 |        0.0218182  | 0.0531015  |           0.126551 |\n",
      "|  sensory has parallels with feminist                |   0.108 |        0.0152672  | 0.0493519  |           0.124676 |\n",
      "|  senses are social                                  |   0.109 |        0.0179211  | 0.0481804  |           0.12409  |\n",
      "|  sensorial prosthese                                |   0.106 |        0.011236   | 0.0471199  |           0.12356  |\n",
      "|  synaesthesia as scape                              |   0.109 |        0.0178571  | 0.0439927  |           0.121996 |\n",
      "|  third wave sensory archaeology                     |   0.093 |        0.0184502  | 0.0764165  |           0.121542 |\n",
      "|  modes of thought                                   |   0.113 |        0.0254545  | 0.0402951  |           0.120148 |\n",
      "|  personal and analysis go together                  |   0.113 |        0.0264151  | 0.0389615  |           0.119481 |\n",
      "|  study vision from ontology first                   |   0.102 |        0.0367893  | 0.0704826  |           0.118575 |\n",
      "|  architecture                                       |   0.01  |        0.0204918  | 0.235732   |           0.117866 |\n",
      "|  strong objectivity                                 |   0.107 |        0.0139373  | 0.0300746  |           0.115037 |\n",
      "|  sensory ethnography                                |   0.113 |        0.0258303  | 0.0270136  |           0.113507 |\n",
      "|  embrace challenge of being in present context      |   0.102 |        0.0369004  | 0.0583249  |           0.112496 |\n",
      "|  theory intersects with method sensorial            |   0.1   |        0.0342466  | 0.0569921  |           0.111829 |\n",
      "|  tags imply dramatic lighting                       |   0.093 |        0.0185874  | 0.0500631  |           0.108365 |\n",
      "|  synaesthesia                                       |   0.108 |        0.0165563  | 0.0157802  |           0.10789  |\n",
      "|  five suggestions for methodology in sensory archae |   0.093 |        0.018797   | 0.0482242  |           0.107445 |\n",
      "|  exploring the glitches in computer vision          |   0.092 |        0.0733945  | 0.102131   |           0.106621 |\n",
      "|  rhetorical advantage                               |   0.088 |        0.0340136  | 0.0697167  |           0.106287 |\n",
      "|  sensory parallel with feminist                     |   0.089 |        0.010989   | 0.045322   |           0.105994 |\n",
      "|  materiality of photographs                         |   0.037 |        0.0738007  | 0.210237   |           0.105119 |\n",
      "|  sensory ethnography still rigorous                 |   0.105 |        0.0109091  | 0.00768703 |           0.103844 |\n",
      "|  photographs sensorial depnds on situation          |   0.086 |        0.0297398  | 0.0591341  |           0.100996 |\n"
     ]
    }
   ],
   "source": [
    "!python similarity.py \"wiki-experiment/archaeology and photography shanks svabo.md\""
   ]
  },
  {
   "cell_type": "code",
   "execution_count": 6,
   "metadata": {},
   "outputs": [
    {
     "name": "stdout",
     "output_type": "stream",
     "text": [
      "## Similar Notes \r\n",
      "|  filename                                                                            |   score |   text_similarity |     tfidf |   tfidf_similarity |\r\n",
      "| :------------------------------------------------------------------------------------|--------:|------------------:|----------:|-------------------:|\r\n",
      "|  brownThingTheory2001 - Extracted Annotations                                        |   1     |         1         | 1         |           1        |\r\n",
      "|  polzerAncestralBodiesUniversal2018 - Extracted Annotations (2021-01-12, 25817 p.m.) |   0.531 |         0.0619946 | 0.0490571 |           0.524529 |\r\n",
      "|  Thoughts on Imperial Souvenir                                                       |   0.523 |         0.045614  | 0.0804607 |           0.54023  |\r\n",
      "|  professional vision goodwin                                                         |   0.268 |         0.0366492 | 0.0387437 |           0.269372 |\r\n",
      "|  knowledge graphs                                                                    |   0.183 |         0.0326531 | 0.0710872 |           0.20221  |\r\n",
      "|  why do bones have value                                                             |   0.18  |         0.0274725 | 0.0975569 |           0.215445 |\r\n",
      "|  2021-01-03-to-read                                                                  |   0.172 |         0.0112994 | 0.0347962 |           0.184065 |\r\n",
      "## Similar Notes TFIDF \r\n",
      "|  filename                                                                            |   score |   text_similarity |     tfidf |   tfidf_similarity |\r\n",
      "| :------------------------------------------------------------------------------------|--------:|------------------:|----------:|-------------------:|\r\n",
      "|  brownThingTheory2001 - Extracted Annotations                                        |   1     |         1         | 1         |           1        |\r\n",
      "|  Thoughts on Imperial Souvenir                                                       |   0.523 |         0.045614  | 0.0804607 |           0.54023  |\r\n",
      "|  polzerAncestralBodiesUniversal2018 - Extracted Annotations (2021-01-12, 25817 p.m.) |   0.531 |         0.0619946 | 0.0490571 |           0.524529 |\r\n",
      "|  professional vision goodwin                                                         |   0.268 |         0.0366492 | 0.0387437 |           0.269372 |\r\n",
      "|  why do bones have value                                                             |   0.18  |         0.0274725 | 0.0975569 |           0.215445 |\r\n",
      "|  knowledge graphs                                                                    |   0.183 |         0.0326531 | 0.0710872 |           0.20221  |\r\n",
      "|  thing is a subject object relationship                                              |   0.044 |         0.0879121 | 0.387045  |           0.193523 |\r\n",
      "|  2021-01-03-to-read                                                                  |   0.172 |         0.0112994 | 0.0347962 |           0.184065 |\r\n",
      "|  things as nexus of relationships                                                    |   0.04  |         0.08      | 0.244286  |           0.122143 |\r\n",
      "|  How do Calls-to-Action from TRC intersect with heart shaped archaeolog              |   0.006 |         0.0120482 | 0.21728   |           0.10864  |\r\n",
      "|  hamilakis paper on digital archae and sensorium                                     |   0.099 |         0.0546559 | 0.0616646 |           0.102261 |\r\n"
     ]
    }
   ],
   "source": [
    "!python similarity.py \"wiki-experiment/brownThingTheory2001 - Extracted Annotations.md\""
   ]
  },
  {
   "cell_type": "code",
   "execution_count": 1,
   "metadata": {},
   "outputs": [
    {
     "name": "stdout",
     "output_type": "stream",
     "text": [
      "## Similar Notes \r\n",
      "|  filename                                                  |   score |   text_similarity |   tfidf |   tfidf_similarity |\r\n",
      "| :----------------------------------------------------------|--------:|------------------:|--------:|-------------------:|\r\n",
      "|  mccorristineDarkValueCriminal2015 - Extracted Annotations |     0.5 |                 1 |       1 |                0.5 |\r\n",
      "## Similar Notes TFIDF \r\n",
      "|  filename                                                  |   score |   text_similarity |    tfidf |   tfidf_similarity |\r\n",
      "| :----------------------------------------------------------|--------:|------------------:|---------:|-------------------:|\r\n",
      "|  mccorristineDarkValueCriminal2015 - Extracted Annotations |   0.5   |         1         | 1        |           0.5      |\r\n",
      "|  gaze is never innocent                                    |   0.043 |         0.0864198 | 0.39985  |           0.199925 |\r\n",
      "|  continuing body abuse                                     |   0.024 |         0.0477876 | 0.229607 |           0.114803 |\r\n"
     ]
    }
   ],
   "source": [
    "!python similarity.py \"wiki-experiment/mccorristineDarkValueCriminal2015 - Extracted Annotations.md\""
   ]
  },
  {
   "cell_type": "code",
   "execution_count": 3,
   "metadata": {},
   "outputs": [
    {
     "name": "stdout",
     "output_type": "stream",
     "text": [
      "## Similar Notes \n",
      "|  filename                                                             |   score |   text_similarity |     tfidf |   tfidf_similarity |\n",
      "| :---------------------------------------------------------------------|--------:|------------------:|----------:|-------------------:|\n",
      "|  personal collectors of human remains extend the duration of violence |   1     |         1         | 1         |           1        |\n",
      "|  guitar skeleton                                                      |   0.142 |         0.0835214 | 0.115706  |           0.157853 |\n",
      "|  BoneTrade                                                            |   0.138 |         0.0252366 | 0.0804474 |           0.165224 |\n",
      "|  a typology of taking per hicks                                       |   0.132 |         0.0636943 | 0.275012  |           0.237506 |\n",
      "|  Open tabs to check for book                                          |   0.132 |         0.0134228 | 0.125999  |           0.188    |\n",
      "|  Petrie sends human remains to UCL                                    |   0.129 |         0.0918114 | 0.104227  |           0.135447 |\n",
      "|  gan paper imagining the bonetrade                                    |   0.126 |         0.0511628 | 0.073506  |           0.136753 |\n",
      "|  assemblage ideas                                                     |   0.125 |         0.0838323 | 0.0492608 |           0.107964 |\n",
      "|  00 papers in progress                                                |   0.123 |         0.0461095 | 0.0370965 |           0.118548 |\n",
      "|  eugenics statistics and archaeology                                  |   0.114 |         0.0613333 | 0.110151  |           0.138409 |\n",
      "|  hangovers of archaeological thoughts                                 |   0.108 |         0.0162866 | 0.0306786 |           0.115339 |\n",
      "|  what do human remains do for those who own them                      |   0.101 |         0.0590062 | 0.108696  |           0.125777 |\n",
      "## Similar Notes TFIDF \n",
      "|  filename                                                             |   score |   text_similarity |     tfidf |   tfidf_similarity |\n",
      "| :---------------------------------------------------------------------|--------:|------------------:|----------:|-------------------:|\n",
      "|  personal collectors of human remains extend the duration of violence |   1     |         1         | 1         |           1        |\n",
      "|  a typology of taking per hicks                                       |   0.132 |         0.0636943 | 0.275012  |           0.237506 |\n",
      "|  humans remains in museums count                                      |   0.098 |         0.0292398 | 0.232211  |           0.199439 |\n",
      "|  Open tabs to check for book                                          |   0.132 |         0.0134228 | 0.125999  |           0.188    |\n",
      "|  BoneTrade                                                            |   0.138 |         0.0252366 | 0.0804474 |           0.165224 |\n",
      "|  guitar skeleton                                                      |   0.142 |         0.0835214 | 0.115706  |           0.157853 |\n",
      "|  the museum shoots twice                                              |   0.057 |         0.11435   | 0.2845    |           0.14225  |\n",
      "|  eugenics statistics and archaeology                                  |   0.114 |         0.0613333 | 0.110151  |           0.138409 |\n",
      "|  gan paper imagining the bonetrade                                    |   0.126 |         0.0511628 | 0.073506  |           0.136753 |\n",
      "|  Petrie sends human remains to UCL                                    |   0.129 |         0.0918114 | 0.104227  |           0.135447 |\n",
      "|  archaeology is the science of human duration                         |   0.026 |         0.0529801 | 0.268855  |           0.134427 |\n",
      "|  chronopolitics                                                       |   0.01  |         0.0198675 | 0.256784  |           0.128392 |\n",
      "|  human remains                                                        |   0.008 |         0.0164474 | 0.252826  |           0.126413 |\n",
      "|  what do human remains do for those who own them                      |   0.101 |         0.0590062 | 0.108696  |           0.125777 |\n",
      "|  00 papers in progress                                                |   0.123 |         0.0461095 | 0.0370965 |           0.118548 |\n",
      "|  hangovers of archaeological thoughts                                 |   0.108 |         0.0162866 | 0.0306786 |           0.115339 |\n",
      "|  assemblage ideas                                                     |   0.125 |         0.0838323 | 0.0492608 |           0.107964 |\n",
      "|  human remains in harvard museum collections                          |   0.04  |         0.0808081 | 0.208337  |           0.104169 |\n"
     ]
    }
   ],
   "source": [
    "!python similarity.py \"wiki-experiment/to develop/personal collectors of human remains extend the duration of violence.md\""
   ]
  },
  {
   "cell_type": "code",
   "execution_count": 4,
   "metadata": {},
   "outputs": [
    {
     "name": "stdout",
     "output_type": "stream",
     "text": [
      "## Similar Notes \r\n",
      "|  filename                                                                    |   score |   text_similarity |     tfidf |   tfidf_similarity |\r\n",
      "| :----------------------------------------------------------------------------|--------:|------------------:|----------:|-------------------:|\r\n",
      "|  what do human remains do for those who own them                             |   1     |         1         | 1         |          1         |\r\n",
      "|  hangovers of archaeological thoughts                                        |   0.268 |         0.0357143 | 0.0754851 |          0.287743  |\r\n",
      "|  heart connections with feminist theory                                      |   0.246 |         0.0925926 | 0.103069  |          0.251535  |\r\n",
      "|  study vision from ontology first                                            |   0.243 |         0.0852713 | 0.0698756 |          0.234938  |\r\n",
      "|  assemblage ideas                                                            |   0.234 |         0.0671141 | 0.0725293 |          0.236265  |\r\n",
      "|  eugenics statistics and archaeology                                         |   0.227 |         0.054878  | 0.0928326 |          0.246416  |\r\n",
      "|  Petrie sends human remains to UCL                                           |   0.224 |         0.0487805 | 0.0623262 |          0.231163  |\r\n",
      "|  photographs as mnemonic traces                                              |   0.207 |         0.0804598 | 0.0761898 |          0.204762  |\r\n",
      "|  rhetorical advantage                                                        |   0.194 |         0.0551181 | 0.042291  |          0.187812  |\r\n",
      "|  results of morgan photograph study                                          |   0.189 |         0.0454545 | 0.0502172 |          0.191775  |\r\n",
      "|  method for coding photographs per morgan                                    |   0.178 |         0.0217391 | 0.0178701 |          0.175602  |\r\n",
      "|  human factor                                                                |   0.173 |         0.0961538 | 0.128608  |          0.189304  |\r",
      "\r\n",
      "|  acknowledge where we stand                                                  |   0.171 |         0.092437  | 0.110372  |          0.180186  |\r\n",
      "|  photos embellished with real objects                                        |   0.168 |         0.0869565 | 0.122744  |          0.186372  |\r\n",
      "|  assemblages sensorial field politics                                        |   0.167 |         0.0843373 | 0.0627479 |          0.156374  |\r\n",
      "|  med school hazing                                                           |   0.163 |         0.0753425 | 0.0669441 |          0.158472  |\r\n",
      "|  writing should be evocative                                                 |   0.163 |         0.076087  | 0.100377  |          0.175189  |\r\n",
      "|  multiple identities                                                         |   0.162 |         0.0744681 | 0.0704176 |          0.160209  |\r\n",
      "|  visual practice of archaeologists                                           |   0.161 |         0.0352941 | 0.0349904 |          0.160352  |\r\n",
      "|  agenda for black feminist archaeology                                       |   0.158 |         0.0666667 | 0.0647281 |          0.157364  |\r\n",
      "|  BoneTrade                                                                   |   0.157 |         0.0638298 | 0.0989523 |          0.174476  |\r\n",
      "|  accessibility of the work                                                   |   0.152 |         0.0531915 | 0.0502781 |          0.150139  |\r\n",
      "|  on taking a photo                                                           |   0.151 |         0.10101   | 0.100187  |          0.150094  |\r\n",
      "|  vibrant materiality of the skull                                            |   0.149 |         0.0113636 | 0.018707  |          0.152211  |\r\n",
      "|  think of it all as evocations                                               |   0.149 |         0.0978261 | 0.0896615 |          0.144831  |\r\n",
      "|  heart framework makes ethical space                                         |   0.146 |         0.0925926 | 0.090222  |          0.145111  |\r\n",
      "|  the idea of archaeological culture equals race                              |   0.146 |         0.042735  | 0.114859  |          0.18243   |\r\n",
      "|  sensory depends on personal awareness                                       |   0.145 |         0.09      | 0.0958868 |          0.147943  |\r\n",
      "|  content analysis nvivo of photos                                            |   0.143 |         0.0361446 | 0.0341272 |          0.142064  |\r\n",
      "|  sensorial prosthese                                                         |   0.143 |         0.0869565 | 0.126238  |          0.163119  |\r\n",
      "|  resurrection men in dallas                                                  |   0.143 |         0.0352697 | 0.0601005 |          0.15505   |\r\n",
      "|  professional vision                                                         |   0.141 |         0.0824742 | 0.0590294 |          0.129515  |\r\n",
      "|  external somatic traits were assumed to correspond to inner characteristics |   0.141 |         0.03125   | 0.0508783 |          0.150439  |\r\n",
      "|  creative work is not radical                                                |   0.14  |         0.08      | 0.0788157 |          0.139408  |\r\n",
      "|  potential endproducts of sensory arcahe                                     |   0.139 |         0.0777778 | 0.0943417 |          0.147171  |\r\n",
      "|  sensory has parallels with feminist                                         |   0.139 |         0.0786517 | 0.0714296 |          0.135715  |\r\n",
      "|  personal and analysis go together                                           |   0.137 |         0.0736842 | 0.0594803 |          0.12974   |\r\n",
      "|  the intention of sensory archaeology                                        |   0.134 |         0.0673077 | 0.0596442 |          0.129822  |\r\n",
      "|  sensory archaeology traces routes                                           |   0.133 |         0.0652174 | 0.0866447 |          0.143322  |\r\n",
      "|  immaterial components require material to enact                             |   0.133 |         0.0661157 | 0.053719  |          0.12686   |\r\n",
      "|  senses are social                                                           |   0.133 |         0.0654206 | 0.0548684 |          0.127434  |\r\n",
      "|  synaesthesia as scape                                                       |   0.132 |         0.0648148 | 0.0713179 |          0.135659  |\r\n",
      "|  strong objectivity                                                          |   0.131 |         0.0614035 | 0.0489542 |          0.124477  |\r\n",
      "|  sensory ethnography still rigorous                                          |   0.129 |         0.0588235 | 0.0538563 |          0.126928  |\r\n",
      "|  sensory ethnography                                                         |   0.129 |         0.0588235 | 0.0423854 |          0.121193  |\r\n",
      "|  modes of thought                                                            |   0.128 |         0.0566038 | 0.0503411 |          0.125171  |\r\n",
      "|  00 papers in progress                                                       |   0.127 |         0.0534351 | 0.0743538 |          0.137177  |\r\n",
      "|  objects in the frame                                                        |   0.126 |         0.0519481 | 0.0727565 |          0.136378  |\r\n",
      "|  sensory parallel with feminist                                              |   0.124 |         0.0816327 | 0.0799883 |          0.123327  |\r\n",
      "|  theory intersects with method sensorial                                     |   0.124 |         0.0819672 | 0.0724449 |          0.119556  |\r\n",
      "|  why do bones have value                                                     |   0.123 |         0.045977  | 0.0413086 |          0.120654  |\r\n",
      "|  synaesthesia                                                                |   0.123 |         0.0458015 | 0.0343999 |          0.1172    |\r\n",
      "|  first wave sensory archae                                                   |   0.122 |         0.0769231 | 0.0973434 |          0.132005  |\r\n",
      "|  embrace challenge of being in present context                               |   0.122 |         0.0776699 | 0.0596281 |          0.113147  |\r\n",
      "|  guitar skeleton                                                             |   0.122 |         0.0447154 | 0.10665   |          0.153325  |\r\n",
      "|  affectivity a productive force                                              |   0.121 |         0.0423729 | 0.0292238 |          0.114612  |\r\n",
      "|  desire                                                                      |   0.12  |         0.0740741 | 0.0561274 |          0.111397  |\r\n",
      "|  third wave sensory archaeology                                              |   0.119 |         0.0707071 | 0.0792756 |          0.122971  |\r\n",
      "|  conventional archae is sensory                                              |   0.117 |         0.0666667 | 0.0997984 |          0.133233  |\r\n",
      "|  consensus dissensus and what is permitted to be sensed                      |   0.116 |         0.0657895 | 0.0854658 |          0.126066  |\r\n",
      "|  gan paper imagining the bonetrade                                           |   0.116 |         0.0318182 | 0.0383897 |          0.119195  |\r\n",
      "|  time                                                                        |   0.115 |         0.0638298 | 0.0458909 |          0.106279  |\r\n",
      "|  five suggestions for methodology in sensory archae                          |   0.115 |         0.0631579 | 0.0602006 |          0.113434  |\r\n",
      "|  tags imply dramatic lighting                                                |   0.114 |         0.0612245 | 0.0523188 |          0.109493  |\r\n",
      "|  hamilakis sensorial assemblages affect memory and temporality               |   0.112 |         0.057971  | 0.0505501 |          0.108608  |\r\n",
      "|  why bonetrade matters                                                       |   0.111 |         0.0215054 | 0.0317    |          0.11585   |\r\n",
      "|  second political implication                                                |   0.111 |         0.0545455 | 0.0423854 |          0.104526  |\r\n",
      "|  personal collectors of human remains extend the duration of violence        |   0.11  |         0.0773639 | 0.265575  |          0.204216  |\r\n",
      "|  second wave sensory                                                         |   0.109 |         0.0510204 | 0.0252096 |          0.0959382 |\r\n",
      "|  photographs and frameworks                                                  |   0.108 |         0.0484848 | 0.0547482 |          0.110707  |\r\n",
      "|  evolution of archaeological photography                                     |   0.107 |         0.0481928 | 0.0442498 |          0.105458  |\r\n",
      "|  selective pasts                                                             |   0.106 |         0.0461538 | 0.0306949 |          0.0986808 |\r\n",
      "|  photographs sensorial depnds on situation                                   |   0.101 |         0.0594059 | 0.0444938 |          0.0936755 |\r\n",
      "|  photography as architecture                                                 |   0.1   |         0.057554  | 0.0547961 |          0.0988266 |\r\n",
      "## Similar Notes TFIDF \r\n",
      "|  filename                                                                    |   score |   text_similarity |     tfidf |   tfidf_similarity |\r\n",
      "| :----------------------------------------------------------------------------|--------:|------------------:|----------:|-------------------:|\r\n",
      "|  what do human remains do for those who own them                             |   1     |         1         | 1         |           1        |\r\n",
      "|  hangovers of archaeological thoughts                                        |   0.268 |         0.0357143 | 0.0754851 |           0.287743 |\r\n",
      "|  heart connections with feminist theory                                      |   0.246 |         0.0925926 | 0.103069  |           0.251535 |\r\n",
      "|  eugenics statistics and archaeology                                         |   0.227 |         0.054878  | 0.0928326 |           0.246416 |\r\n",
      "|  assemblage ideas                                                            |   0.234 |         0.0671141 | 0.0725293 |           0.236265 |\r\n",
      "|  study vision from ontology first                                            |   0.243 |         0.0852713 | 0.0698756 |           0.234938 |\r\n",
      "|  Petrie sends human remains to UCL                                           |   0.224 |         0.0487805 | 0.0623262 |           0.231163 |\r\n",
      "|  photographs as mnemonic traces                                              |   0.207 |         0.0804598 | 0.0761898 |           0.204762 |\r\n",
      "|  personal collectors of human remains extend the duration of violence        |   0.11  |         0.0773639 | 0.265575  |           0.204216 |\r\n",
      "|  results of morgan photograph study                                          |   0.189 |         0.0454545 | 0.0502172 |           0.191775 |\r\n",
      "|  human factor                                                                |   0.173 |         0.0961538 | 0.128608  |           0.189304 |\r\n",
      "|  rhetorical advantage                                                        |   0.194 |         0.0551181 | 0.042291  |           0.187812 |\r\n",
      "|  photos embellished with real objects                                        |   0.168 |         0.0869565 | 0.122744  |           0.186372 |\r\n",
      "|  the idea of archaeological culture equals race                              |   0.146 |         0.042735  | 0.114859  |           0.18243  |\r\n",
      "|  acknowledge where we stand                                                  |   0.171 |         0.092437  | 0.110372  |           0.180186 |\r\n",
      "|  method for coding photographs per morgan                                    |   0.178 |         0.0217391 | 0.0178701 |           0.175602 |\r\n",
      "|  writing should be evocative                                                 |   0.163 |         0.076087  | 0.100377  |           0.175189 |\r\n",
      "|  BoneTrade                                                                   |   0.157 |         0.0638298 | 0.0989523 |           0.174476 |\r\n",
      "|  sensorial prosthese                                                         |   0.143 |         0.0869565 | 0.126238  |           0.163119 |\r\n",
      "|  visual practice of archaeologists                                           |   0.161 |         0.0352941 | 0.0349904 |           0.160352 |\r\n",
      "|  multiple identities                                                         |   0.162 |         0.0744681 | 0.0704176 |           0.160209 |\r\n",
      "|  med school hazing                                                           |   0.163 |         0.0753425 | 0.0669441 |           0.158472 |\r\n",
      "|  agenda for black feminist archaeology                                       |   0.158 |         0.0666667 | 0.0647281 |           0.157364 |\r\n",
      "|  assemblages sensorial field politics                                        |   0.167 |         0.0843373 | 0.0627479 |           0.156374 |\r\n",
      "|  resurrection men in dallas                                                  |   0.143 |         0.0352697 | 0.0601005 |           0.15505  |\r\n",
      "|  guitar skeleton                                                             |   0.122 |         0.0447154 | 0.10665   |           0.153325 |\r\n",
      "|  vibrant materiality of the skull                                            |   0.149 |         0.0113636 | 0.018707  |           0.152211 |\r\n",
      "|  external somatic traits were assumed to correspond to inner characteristics |   0.141 |         0.03125   | 0.0508783 |           0.150439 |\r\n",
      "|  accessibility of the work                                                   |   0.152 |         0.0531915 | 0.0502781 |           0.150139 |\r\n",
      "|  on taking a photo                                                           |   0.151 |         0.10101   | 0.100187  |           0.150094 |\r\n",
      "|  sensory depends on personal awareness                                       |   0.145 |         0.09      | 0.0958868 |           0.147943 |\r\n",
      "|  potential endproducts of sensory arcahe                                     |   0.139 |         0.0777778 | 0.0943417 |           0.147171 |\r\n",
      "|  heart framework makes ethical space                                         |   0.146 |         0.0925926 | 0.090222  |           0.145111 |\r\n",
      "|  think of it all as evocations                                               |   0.149 |         0.0978261 | 0.0896615 |           0.144831 |\r\n",
      "|  sensory archaeology traces routes                                           |   0.133 |         0.0652174 | 0.0866447 |           0.143322 |\r\n",
      "|  content analysis nvivo of photos                                            |   0.143 |         0.0361446 | 0.0341272 |           0.142064 |\r\n",
      "|  creative work is not radical                                                |   0.14  |         0.08      | 0.0788157 |           0.139408 |\r\n",
      "|  00 papers in progress                                                       |   0.127 |         0.0534351 | 0.0743538 |           0.137177 |\r\n",
      "|  objects in the frame                                                        |   0.126 |         0.0519481 | 0.0727565 |           0.136378 |\r\n",
      "|  sensory has parallels with feminist                                         |   0.139 |         0.0786517 | 0.0714296 |           0.135715 |\r\n",
      "|  synaesthesia as scape                                                       |   0.132 |         0.0648148 | 0.0713179 |           0.135659 |\r\n",
      "|  conventional archae is sensory                                              |   0.117 |         0.0666667 | 0.0997984 |           0.133233 |\r\n",
      "|  first wave sensory archae                                                   |   0.122 |         0.0769231 | 0.0973434 |           0.132005 |\r\n",
      "|  the intention of sensory archaeology                                        |   0.134 |         0.0673077 | 0.0596442 |           0.129822 |\r\n",
      "|  personal and analysis go together                                           |   0.137 |         0.0736842 | 0.0594803 |           0.12974  |\r\n",
      "|  professional vision                                                         |   0.141 |         0.0824742 | 0.0590294 |           0.129515 |\r\n",
      "|  senses are social                                                           |   0.133 |         0.0654206 | 0.0548684 |           0.127434 |\r\n",
      "|  sensory ethnography still rigorous                                          |   0.129 |         0.0588235 | 0.0538563 |           0.126928 |\r\n",
      "|  immaterial components require material to enact                             |   0.133 |         0.0661157 | 0.053719  |           0.12686  |\r\n",
      "|  consensus dissensus and what is permitted to be sensed                      |   0.116 |         0.0657895 | 0.0854658 |           0.126066 |\r\n",
      "|  modes of thought                                                            |   0.128 |         0.0566038 | 0.0503411 |           0.125171 |\r\n",
      "|  strong objectivity                                                          |   0.131 |         0.0614035 | 0.0489542 |           0.124477 |\r\n",
      "|  sensory parallel with feminist                                              |   0.124 |         0.0816327 | 0.0799883 |           0.123327 |\r\n",
      "|  third wave sensory archaeology                                              |   0.119 |         0.0707071 | 0.0792756 |           0.122971 |\r\n",
      "|  sensory ethnography                                                         |   0.129 |         0.0588235 | 0.0423854 |           0.121193 |\r\n",
      "|  why do bones have value                                                     |   0.123 |         0.045977  | 0.0413086 |           0.120654 |\r\n",
      "|  theory intersects with method sensorial                                     |   0.124 |         0.0819672 | 0.0724449 |           0.119556 |\r\n",
      "|  gan paper imagining the bonetrade                                           |   0.116 |         0.0318182 | 0.0383897 |           0.119195 |\r\n",
      "|  synaesthesia                                                                |   0.123 |         0.0458015 | 0.0343999 |           0.1172   |\r\n",
      "|  why bonetrade matters                                                       |   0.111 |         0.0215054 | 0.0317    |           0.11585  |\r\n",
      "|  affectivity a productive force                                              |   0.121 |         0.0423729 | 0.0292238 |           0.114612 |\r\n",
      "|  Open tabs to check for book                                                 |   0.083 |         0.0547945 | 0.116131  |           0.113621 |\r\n",
      "|  five suggestions for methodology in sensory archae                          |   0.115 |         0.0631579 | 0.0602006 |           0.113434 |\r\n",
      "|  embrace challenge of being in present context                               |   0.122 |         0.0776699 | 0.0596281 |           0.113147 |\r\n",
      "|  desire                                                                      |   0.12  |         0.0740741 | 0.0561274 |           0.111397 |\r\n",
      "|  photographs and frameworks                                                  |   0.108 |         0.0484848 | 0.0547482 |           0.110707 |\r\n",
      "|  tags imply dramatic lighting                                                |   0.114 |         0.0612245 | 0.0523188 |           0.109493 |\r\n",
      "|  hamilakis sensorial assemblages affect memory and temporality               |   0.112 |         0.057971  | 0.0505501 |           0.108608 |\r\n",
      "|  human remains                                                               |   0.019 |         0.037037  | 0.21678   |           0.10839  |\r\n",
      "|  time                                                                        |   0.115 |         0.0638298 | 0.0458909 |           0.106279 |\r\n",
      "|  evolution of archaeological photography                                     |   0.107 |         0.0481928 | 0.0442498 |           0.105458 |\r\n",
      "|  second political implication                                                |   0.111 |         0.0545455 | 0.0423854 |           0.104526 |\r\n",
      "|  humans remains in museums count                                             |   0.02  |         0.0409836 | 0.208863  |           0.104431 |\r\n"
     ]
    }
   ],
   "source": [
    "!python similarity.py \"wiki-experiment/what do human remains do for those who own them.md\""
   ]
  }
 ],
 "metadata": {
  "kernelspec": {
   "display_name": "Python 3",
   "language": "python",
   "name": "python3"
  },
  "language_info": {
   "codemirror_mode": {
    "name": "ipython",
    "version": 3
   },
   "file_extension": ".py",
   "mimetype": "text/x-python",
   "name": "python",
   "nbconvert_exporter": "python",
   "pygments_lexer": "ipython3",
   "version": "3.6.7"
  }
 },
 "nbformat": 4,
 "nbformat_minor": 2
}
